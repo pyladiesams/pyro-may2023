{
 "cells": [
  {
   "cell_type": "markdown",
   "id": "56ec39c0-91fc-4da9-9a00-e71d32236f10",
   "metadata": {},
   "source": [
    "# Linear Bayesian Modelling with Pyro"
   ]
  },
  {
   "cell_type": "markdown",
   "id": "d94c602c-9b96-45ff-bce1-74f47651f790",
   "metadata": {},
   "source": [
    "Welcome to our tutorial notebook on building a simple linear Bayesian model with Pyro! In this tutorial, you will learn the fundamentals of Bayesian modeling and how to implement it using Pyro, a powerful probabilistic programming framework. By the end of this tutorial, you will have a solid understanding of how to define and train a Bayesian model, and how to make probabilistic predictions using posterior samples. Get ready to dive into the world of Bayesian inference and unlock the full potential of your data with Pyro!"
   ]
  },
  {
   "cell_type": "markdown",
   "id": "0b958594-59e0-4d57-8a60-f640de5db051",
   "metadata": {},
   "source": [
    "## Sections \n",
    "0. Setup\n",
    "1. Defining a Model\n",
    "2. Defining a Guide\n",
    "3. Defining a Trainingloop\n",
    "4. Inference\n",
    "5. Bonus: SVI vs. MCMC/NUTS\n",
    "6. Bonus: Comparison with RidgeRegression"
   ]
  },
  {
   "cell_type": "markdown",
   "id": "761baa4c-9ced-451e-92d2-a9eda70d5c48",
   "metadata": {},
   "source": [
    "## 0. Setup\n",
    "In this section, we will set up the environment and install the necessary dependencies to run our Bayesian modeling tutorial. We will guide you through the process of installing Pyro and other required libraries, as well as importing the necessary modules and preparing the dataset. By the end of this section, you will have a fully configured environment ready for Bayesian modeling."
   ]
  },
  {
   "cell_type": "code",
   "execution_count": null,
   "id": "5327a153-91a4-4b3f-9108-5e95ba6ed0d8",
   "metadata": {
    "scrolled": true
   },
   "outputs": [],
   "source": [
    "# Installing requirements from the requirements.txt file; the file was created from the poetry.lock with\n",
    "# poetry export -f requirements.txt --output requirements.txt --without-hashes\n",
    "!pip3 install -r requirements.txt"
   ]
  },
  {
   "cell_type": "code",
   "execution_count": null,
   "id": "a4f338f7-0e12-41ea-8894-140511cb2b2f",
   "metadata": {},
   "outputs": [],
   "source": [
    "# Import pandas and numpy for data handling\n",
    "import pandas as pd\n",
    "import numpy as np\n",
    "\n",
    "# Import torch and pyro for modelling and inference\n",
    "import torch\n",
    "from torch import nn\n",
    "import pyro\n",
    "from pyro.nn import PyroSample, PyroParam, PyroModule\n",
    "import pyro.distributions as dist\n",
    "from pyro import poutine\n",
    "\n",
    "# Import plotly to visualize the inference\n",
    "from plotly.subplots import make_subplots\n",
    "import plotly.graph_objects as go\n",
    "import plotly.express as px\n",
    "\n",
    "# Utility\n",
    "from typing import List\n",
    "from tqdm import tqdm"
   ]
  },
  {
   "cell_type": "code",
   "execution_count": null,
   "id": "ac1e2c38-cee1-4e09-b43d-34738d8f79ba",
   "metadata": {},
   "outputs": [],
   "source": [
    "# Loading the dependent and independent features\n",
    "media = pd.read_parquet(\"./assets/media_prepped.parquet\")\n",
    "sales = pd.read_parquet(\"./assets/sales_prepped.parquet\")\n",
    "\n",
    "# Convert the input data to tensors\n",
    "X = None\n",
    "y = None"
   ]
  },
  {
   "cell_type": "markdown",
   "id": "417a70a1-fdaa-4ca4-bd6c-de1c333aacf7",
   "metadata": {},
   "source": [
    "Note: Maybe add some EDA here."
   ]
  },
  {
   "cell_type": "markdown",
   "id": "82c675fd-122d-4e10-8b64-0a46598834f1",
   "metadata": {},
   "source": [
    "## 1. Defining a Model\n",
    "In this section, we will delve into the heart of Bayesian modeling by defining our probabilistic model. You will learn how to express your prior beliefs about the parameters of the model using probability distributions. We will walk you through the process of defining the likelihood function, specifying the dependencies between variables, and constructing the model using Pyro's intuitive syntax. By the end of this section, you will have a clear understanding of how to build a Bayesian model in Pyro."
   ]
  },
  {
   "cell_type": "code",
   "execution_count": null,
   "id": "5cf3c94a-1d73-4bbe-a36a-a7fd0f009c78",
   "metadata": {},
   "outputs": [],
   "source": [
    "# Define a PyroModel for predicting the revenue\n",
    "# per product from the media spend\n",
    "class RevenueModel(PyroModule):\n",
    "    def __init__(\n",
    "        self,\n",
    "        media_channels: int = 7,\n",
    "        sales_products: int = 2,\n",
    "        bias_lower_bound: List[float] = [0.] * 2,\n",
    "        bias_upper_bound: List[float] = [10_000.] * 2\n",
    "    ):\n",
    "        super().__init__()\n",
    "\n",
    "        # Initialize a linear torch layer as a pyro module.\n",
    "        # Keep in mind, that the linear layer has in_features, which\n",
    "        # are equal to the number of sales channels and out_features\n",
    "        # equal to the number of products\n",
    "        self.linear_layer = None\n",
    "\n",
    "        # Set the weight of the linear layer to be sampled from a PyroSamle distributions\n",
    "        # Potential prior distributions include a folded normal distribution with prior\n",
    "        # mu one and sigma 0.5 (feel free to experiment though!)\n",
    "        self.linear_layer.weight = None\n",
    "        \n",
    "        # Set the bias of the linear layer to be sampled from a PyroSample\n",
    "        # Distribution. Potential prior distributions include a uniform distribution\n",
    "        # between the minimum and the maximum of the two target variables.\n",
    "        self.linear_layer.bias = None\n",
    "\n",
    "        # Assign input shapes to instance attributes for later usage\n",
    "        self.sales_products = sales_products\n",
    "        self.media_channels = media_channels\n",
    "        \n",
    "    def forward(self, X, y=None):\n",
    "        # Get the expected value of y, from the\n",
    "        # current state of the linear layer\n",
    "        y_hat = None # TODO\n",
    "\n",
    "        noise = None # TODO\n",
    "\n",
    "        # Open a pyro plate for the 2 samples per row in y\n",
    "        # You can use any name, but make sure, that it is unique\n",
    "        # (This is only required since we have multiple dependent\n",
    "        # variables (i.e. 2 products)). If you only have a single\n",
    "        # dependent variable, you don't need this first plate.\n",
    "        with None: # TODO\n",
    "\n",
    "            # Open a nested plate for the number of rows in your\n",
    "            # input. The idea here is, that the true y is sampled len(X)\n",
    "            # times, with expected value y_hat and a sigma, that is sampled\n",
    "            # per observation.\n",
    "            # Again, feel free to use any name you want, just make sure, that\n",
    "            # it is unique.\n",
    "            with None: # TODO\n",
    "                # Sample sigma from a pyro.sample.\n",
    "                # Keep in mind, that the each observation\n",
    "                # has an independent noise component to it.\n",
    "                # So the distribution should be '.expand'ed to the\n",
    "                # shape of y_hat.\n",
    "\n",
    "                # Sample observations from a suitable distribution.\n",
    "                # Potential distributions include a normal distribution of\n",
    "                # mu y_hat and sigma.\n",
    "                pyro.sample(None) # TODO\n",
    "\n",
    "        return y_hat"
   ]
  },
  {
   "cell_type": "code",
   "execution_count": null,
   "id": "068b9508-429f-4bfc-a4da-be759abd2a6e",
   "metadata": {},
   "outputs": [],
   "source": [
    "# Visualize the model\n",
    "pyro.render_model(RevenueModel(), model_args=(X, y), render_params=True, render_distributions=True)"
   ]
  },
  {
   "cell_type": "code",
   "execution_count": null,
   "id": "dd57ba71-e490-4848-a0f9-f56b84e2afd6",
   "metadata": {},
   "outputs": [],
   "source": [
    "# The below trace enables you to see the tensor shapes in terms of batch dimension and\n",
    "# and event_dimension. This is not critical to do, but can help with debugging.\n",
    "# Note, how the number of dimensions on the right hand site of the pipe (|) is equal \n",
    "# to the number of dimensions we expclicitly reserved for event dimensions with\n",
    "# .to_event(n_event_dims).\n",
    "trace = poutine.trace(RevenueModel()).get_trace(X, y)\n",
    "trace.compute_log_prob()\n",
    "print(trace.format_shapes())"
   ]
  },
  {
   "cell_type": "markdown",
   "id": "50b09c71-0fee-417f-ac6a-af74663bc2a8",
   "metadata": {},
   "source": [
    "## 2. Defining a Guide\n",
    "In Bayesian modeling, a guide is a probability distribution that approximates the posterior distribution of the model's parameters given the observed data. For the sake of brevity during the workshop, we will use an autoguide to train this model.\n",
    "\n",
    "We are going to define our own guide in the next part of this workshop, but if you are interested, and would like to explore more about guides in Pyro, you are of course very welcome to expand this section."
   ]
  },
  {
   "cell_type": "code",
   "execution_count": null,
   "id": "44cc8915-eb9d-4c6c-9ff7-edee3bf001e8",
   "metadata": {
    "tags": []
   },
   "outputs": [],
   "source": [
    "class RevenueGuide(pyro.infer.autoguide.AutoDiagonalNormal):\n",
    "    pass"
   ]
  },
  {
   "cell_type": "markdown",
   "id": "ed0c8cb0-4884-4f5a-98fc-3dfa1cf9d50b",
   "metadata": {},
   "source": [
    "## 3. Defining a Trainingloop\n",
    "Training a Bayesian model involves updating the guide's parameters to fit the posterior distribution to the observed data. In this section, we will show you how to define a training loop that iterates over the dataset, performs parameter updates, and tracks the model's performance. You will learn about gradient descent optimization, the use of Pyro's stochastic variational inference (SVI) module, and how to monitor the convergence of your model. By the end of this section, you will be ready to train your Bayesian model effectively."
   ]
  },
  {
   "cell_type": "code",
   "execution_count": null,
   "id": "e13d052d-586a-436d-bfee-12edc765a060",
   "metadata": {},
   "outputs": [],
   "source": [
    "# Clear the param store before a new training run\n",
    "# (good practice)\n",
    "pyro.clear_param_store()\n",
    "\n",
    "# Initialize your guide and model\n",
    "model = RevenueModel()\n",
    "guide = None # TODO\n",
    "\n",
    "# Initialize your optimizer and loss\n",
    "optimizer = None # TODO\n",
    "loss = None # TODO\n",
    "\n",
    "# Initialize the SVI\n",
    "svi = pyro.infer.SVI(\n",
    "    model=None, # TODO\n",
    "    guide=None, # TODO\n",
    "    optim=None, # TODO\n",
    "    loss=None, # TODO\n",
    ")\n",
    "\n",
    "# Define the training loop\n",
    "EPOCHS = None # TODO\n",
    "\n",
    "# Define the loop as taking a 'step' in each Epoch\n",
    "# Feel free to print and/or store the loss as you'd\n",
    "# like.\n",
    "losses = []\n",
    "for epoch in tqdm(range(EPOCHS), total=EPOCHS):\n",
    "    pass # TODO\n",
    "\n",
    "# Use plotly, or any other visualization library to show the decrease of the loss\n",
    "px.line(losses)"
   ]
  },
  {
   "cell_type": "markdown",
   "id": "e361cdd3-2865-4adf-a5bd-46f598cbdea1",
   "metadata": {},
   "source": [
    "## 4. Inference\n",
    "Once the model is trained, we can use it to make predictions. In this section, we will guide you through the process of using the trained model and guide to perform inference on new data points. You will learn how to draw posterior samples, compute predictive distributions, and visualize the results. By the end of this section, you will have the skills to leverage the power of Bayesian inference in your own projects."
   ]
  },
  {
   "cell_type": "code",
   "execution_count": null,
   "id": "f6ffdd8e-44aa-46ed-bbca-12890fd2b8cc",
   "metadata": {},
   "outputs": [],
   "source": [
    "# Initialize the predicitive class to sample from the fitted model.\n",
    "# Initialize it with the model, the guide and the number of samples that you want to draw for each variable\n",
    "predictive = pyro.infer.Predictive(\n",
    "    model=None, # TODO\n",
    "    guide=None, # TODO\n",
    "    num_samples=None # TODO\n",
    ")\n",
    "\n",
    "# To get the samples per parameter (including the predicted observations),\n",
    "# pass the input tensor you want to sample for to the sampler.\n",
    "# The output will be a dictionary with the parameter names as keys and the\n",
    "# parameter's samples as values.\n",
    "samples = None # TODO\n",
    "\n",
    "# Fetch the estimated coefficients for visualization.\n",
    "# Pyro may add arbitrary dimensions during sampling, so make\n",
    "# sure to reshape the sampled tensor intor a suitable shape\n",
    "beta_hat = None # TODO\n",
    "beta_hat_prime = None # TODO\n",
    "\n",
    "# Visualize the distribution of samples with plotly or any other library you like\n",
    "fig = make_subplots(rows=2, cols=7)\n",
    "\n",
    "for row, product in enumerate(beta_hat_prime, start=1):\n",
    "    for column, coefficient_samples in enumerate(product, start=1):\n",
    "        fig.add_trace(\n",
    "            go.Histogram(x=coefficient_samples, name=f\"{sales.columns[row - 1]} - {media.columns[column - 1]}\"), row=row, col=column,\n",
    "        )\n",
    "        \n",
    "fig.show()"
   ]
  }
 ],
 "metadata": {
  "kernelspec": {
   "display_name": "Python 3 (ipykernel)",
   "language": "python",
   "name": "python3"
  },
  "language_info": {
   "codemirror_mode": {
    "name": "ipython",
    "version": 3
   },
   "file_extension": ".py",
   "mimetype": "text/x-python",
   "name": "python",
   "nbconvert_exporter": "python",
   "pygments_lexer": "ipython3",
   "version": "3.8.13"
  }
 },
 "nbformat": 4,
 "nbformat_minor": 5
}
